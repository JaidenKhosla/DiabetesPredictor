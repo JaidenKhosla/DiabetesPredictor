{
  "cells": [
    {
      "cell_type": "code",
      "execution_count": 72,
      "metadata": {
        "id": "bb2cuLzGmZ9r"
      },
      "outputs": [],
      "source": [
        "#imports for machine learning and parsing\n",
        "import pandas as pd\n",
        "import seaborn as sns\n",
        "from sklearn.model_selection import train_test_split # To split our data for fair testing\n",
        "from sklearn.linear_model import LogisticRegression  # The model itself!\n",
        "from sklearn import preprocessing #LabelEncoders\n",
        "import math #for ceil\n",
        "import json\n",
        "\n",
        "#server imports\n",
        "from flask import Flask\n",
        "from flask import request\n",
        "from flask import jsonify"
      ]
    },
    {
      "cell_type": "code",
      "execution_count": 73,
      "metadata": {
        "id": "SWB6e1KVm2mm"
      },
      "outputs": [],
      "source": [
        "#loading our dataframe\n",
        "diabetes_dataframe = pd.read_csv(\"./datasets/diabetes_prediction_dataset.csv\")\n",
        "\n"
      ]
    },
    {
      "cell_type": "code",
      "execution_count": 74,
      "metadata": {
        "id": "lBcNp85VqhaP"
      },
      "outputs": [],
      "source": [
        "#replacements\n",
        "#To convert categorical data into numerical data, I googled it and you use labelencoding.\n",
        "genderEncoder = preprocessing.LabelEncoder()\n",
        "smokingEncoder = preprocessing.LabelEncoder()\n",
        "\n",
        "diabetes_dataframe[\"gender\"] = genderEncoder.fit_transform(diabetes_dataframe[\"gender\"])\n",
        "diabetes_dataframe[\"smoking_history\"] = smokingEncoder.fit_transform(diabetes_dataframe[\"smoking_history\"])\n"
      ]
    },
    {
      "cell_type": "code",
      "execution_count": 75,
      "metadata": {
        "id": "o-MnxUgQqyHx"
      },
      "outputs": [],
      "source": [
        "\n",
        "#splitting\n",
        "features = diabetes_dataframe[['gender', 'age', 'hypertension', 'heart_disease', 'smoking_history', 'bmi', 'HbA1c_level', 'blood_glucose_level']]\n",
        "outputs = diabetes_dataframe[['diabetes']].values.ravel()\n",
        "\n",
        "features_train, features_test, outputs_train, outputs_test = train_test_split(features, outputs, test_size=0.1, random_state=4589)"
      ]
    },
    {
      "cell_type": "code",
      "execution_count": 76,
      "metadata": {
        "id": "O2mzUWY8rN8V"
      },
      "outputs": [],
      "source": [
        "#model preperation and training\n",
        "model = LogisticRegression(max_iter=1000)\n",
        "model.fit(features_train, outputs_train)\n",
        "\n",
        "prediction_test = model.predict(features_test)\n",
        "prediction_train = model.predict(features_train)"
      ]
    },
    {
      "cell_type": "code",
      "execution_count": 77,
      "metadata": {
        "colab": {
          "base_uri": "https://localhost:8080/",
          "height": 498
        },
        "id": "iuLhJRqAt3gA",
        "outputId": "ab26bb42-6f51-4b28-8173-f4bbca5dc781"
      },
      "outputs": [],
      "source": [
        "def test():\n",
        "  error = 0\n",
        "  for i in range(0, len(outputs_test)):\n",
        "    error+=(float(prediction_test[i])-float(outputs_test[i]))**2\n",
        "  error/=len(outputs_test)\n",
        "  error**=0.5\n",
        "  print(f\"Error: {error}\")\n",
        "  print(f\"Score: {model.score(features_test,outputs_test)}\")\n"
      ]
    },
    {
      "cell_type": "code",
      "execution_count": 78,
      "metadata": {},
      "outputs": [
        {
          "name": "stdout",
          "output_type": "stream",
          "text": [
            "<class 'numpy.int64'>\n"
          ]
        }
      ],
      "source": [
        "class Predictor:\n",
        "\n",
        "    dataframe: pd.DataFrame\n",
        "\n",
        "    def __init__(self, dataframe: pd.DataFrame):\n",
        "        self.dataframe = dataframe\n",
        "\n",
        "    def predict(self):\n",
        "        return model.predict(self.dataframe)\n",
        "    \n",
        "    @staticmethod\n",
        "    def parse_json(unparsed_json: str):\n",
        "        parsed_json = json.loads(unparsed_json)\n",
        "        return Predictor.json_to_frame(parsed_json)\n",
        "    \n",
        "    @staticmethod\n",
        "    def json_to_frame(parsed_json: dict):\n",
        "        return Predictor(pd.DataFrame([parsed_json]))\n",
        "\n",
        "    def convert_binary_values(self):\n",
        "        self.dataframe[\"gender\"] = genderEncoder.transform(self.dataframe[\"gender\"])\n",
        "        self.dataframe[\"smoking_history\"] = smokingEncoder.transform(self.dataframe[\"smoking_history\"])\n",
        "\n",
        "        return self\n",
        "    \n",
        "\n",
        "\n",
        "jsonPredict = Predictor.parse_json(\"\"\"{\n",
        "    \\\"gender\\\" : \\\"Male\\\",\n",
        "    \\\"age\\\" : 12.0,\n",
        "    \\\"hypertension\\\": 1,\n",
        "    \\\"heart_disease\\\": 1,\n",
        "    \\\"smoking_history\\\": \\\"current\\\",\n",
        "    \\\"bmi\\\" : 23.86,\n",
        "    \\\"HbA1c_level\\\": 4.8,\n",
        "    \\\"blood_glucose_level\\\": 157.0\n",
        "}\"\"\").convert_binary_values().predict()\n",
        "\n",
        "print(type(jsonPredict[0]))\n"
      ]
    },
    {
      "cell_type": "code",
      "execution_count": 79,
      "metadata": {},
      "outputs": [],
      "source": [
        "#Serverside Setup\n",
        "\n",
        "app = Flask(__name__)\n",
        "\n"
      ]
    },
    {
      "cell_type": "code",
      "execution_count": 80,
      "metadata": {},
      "outputs": [],
      "source": [
        "#App Route\n",
        "@app.route(\"/generate\", methods=[\"GET\"])\n",
        "def generate():\n",
        "    clientJson = request.json\n",
        "    res =  float(Predictor.json_to_frame(clientJson).convert_binary_values().predict().tolist()[0])\n",
        "    print(res)\n",
        "\n",
        "    return jsonify({\"result\": res})"
      ]
    },
    {
      "cell_type": "code",
      "execution_count": null,
      "metadata": {},
      "outputs": [
        {
          "name": "stdout",
          "output_type": "stream",
          "text": [
            " * Serving Flask app '__main__'\n",
            " * Debug mode: off\n"
          ]
        },
        {
          "name": "stderr",
          "output_type": "stream",
          "text": [
            "WARNING: This is a development server. Do not use it in a production deployment. Use a production WSGI server instead.\n",
            " * Running on http://127.0.0.1:5000\n",
            "Press CTRL+C to quit\n",
            "127.0.0.1 - - [19/Jun/2025 07:06:10] \"GET /generate HTTP/1.1\" 200 -\n"
          ]
        },
        {
          "name": "stdout",
          "output_type": "stream",
          "text": [
            "0.0\n"
          ]
        }
      ],
      "source": [
        "#Run\n",
        "\n",
        "if __name__ == '__main__':\n",
        "    app.run()"
      ]
    }
  ],
  "metadata": {
    "colab": {
      "provenance": []
    },
    "kernelspec": {
      "display_name": "Python 3",
      "name": "python3"
    },
    "language_info": {
      "codemirror_mode": {
        "name": "ipython",
        "version": 3
      },
      "file_extension": ".py",
      "mimetype": "text/x-python",
      "name": "python",
      "nbconvert_exporter": "python",
      "pygments_lexer": "ipython3",
      "version": "3.12.1"
    }
  },
  "nbformat": 4,
  "nbformat_minor": 0
}
