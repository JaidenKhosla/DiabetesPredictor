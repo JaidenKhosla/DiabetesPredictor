{
 "cells": [
  {
   "cell_type": "code",
   "execution_count": 1,
   "metadata": {
    "id": "bb2cuLzGmZ9r"
   },
   "outputs": [],
   "source": [
    "#imports for machine learning and parsing\n",
    "import pandas as pd\n",
    "import seaborn as sns\n",
    "from sklearn.model_selection import train_test_split # To split our data for fair testing\n",
    "from sklearn.linear_model import LogisticRegression, LinearRegression  # The model itself!\n",
    "from sklearn import preprocessing #LabelEncoders\n",
    "from sklearn.preprocessing import PolynomialFeatures\n",
    "from sklearn.base import RegressorMixin\n",
    "from sklearn.ensemble import RandomForestClassifier\n",
    "import math #for ceil\n",
    "import json\n",
    "\n",
    "#server imports\n",
    "from flask import Flask\n",
    "from flask import request\n",
    "from flask import jsonify\n",
    "from flask_cors import CORS\n",
    "\n",
    "#for typechecking\n",
    "from typing import Sequence, Union\n",
    "import numpy as np"
   ]
  },
  {
   "cell_type": "code",
   "execution_count": 2,
   "metadata": {
    "id": "SWB6e1KVm2mm"
   },
   "outputs": [],
   "source": [
    "#loading our dataframe\n",
    "diabetes_dataframe = pd.read_csv(\"./datasets/diabetes_prediction_dataset.csv\")\n",
    "\n"
   ]
  },
  {
   "cell_type": "code",
   "execution_count": 3,
   "metadata": {
    "id": "lBcNp85VqhaP"
   },
   "outputs": [],
   "source": [
    "#replacements\n",
    "#To convert categorical data into numerical data, I googled it and you use labelencoding.\n",
    "genderEncoder = preprocessing.LabelEncoder()\n",
    "smokingEncoder = preprocessing.LabelEncoder()\n",
    "\n",
    "diabetes_dataframe[\"gender\"] = genderEncoder.fit_transform(diabetes_dataframe[\"gender\"])\n",
    "diabetes_dataframe[\"smoking_history\"] = smokingEncoder.fit_transform(diabetes_dataframe[\"smoking_history\"])\n"
   ]
  },
  {
   "cell_type": "markdown",
   "metadata": {},
   "source": [
    "1"
   ]
  },
  {
   "cell_type": "markdown",
   "metadata": {},
   "source": []
  },
  {
   "cell_type": "code",
   "execution_count": 4,
   "metadata": {
    "id": "o-MnxUgQqyHx"
   },
   "outputs": [
    {
     "name": "stdout",
     "output_type": "stream",
     "text": [
      "[0 0 0 ... 0 0 0]\n"
     ]
    }
   ],
   "source": [
    "\n",
    "#splitting\n",
    "features = diabetes_dataframe[['gender', 'age', 'hypertension', 'heart_disease', 'smoking_history', 'bmi', 'HbA1c_level', 'blood_glucose_level']]\n",
    "outputs = diabetes_dataframe[['diabetes']].values.ravel()\n",
    "\n",
    "print(outputs)\n",
    "\n",
    "features_train, features_test, outputs_train, outputs_test = train_test_split(features, outputs, test_size=0.1, random_state=1845)"
   ]
  },
  {
   "cell_type": "code",
   "execution_count": 5,
   "metadata": {},
   "outputs": [],
   "source": [
    "class Model:\n",
    "    def __init__(self, model: RegressorMixin, transformModel=True):\n",
    "        self.model = model\n",
    "        if transformModel: model.fit(features_train, outputs_train)\n",
    "    \n",
    "    def test(self, model: None, features=features_test, outputs=outputs_test) -> float:\n",
    "        if model is None: model = self.model\n",
    "        return model.score(features, outputs)\n",
    "    \n",
    "    def predict(self, features: Union[Sequence[Sequence[float]], np.ndarray]):\n",
    "        return self.model.predict(features)\n",
    "\n",
    "class LinearModel(Model):\n",
    "    def __init__(self, transformModel=True):\n",
    "        super().__init__(LinearRegression(), transformModel)\n",
    "\n",
    "class LogisticModel(Model):\n",
    "    def __init__(self, transformModel=True):\n",
    "        super().__init__(LogisticRegression(max_iter=1000), transformModel)\n",
    "\n",
    "class RandomForestModel(Model):\n",
    "    def __init__(self, trees: int,transformModel=True):\n",
    "        super().__init__(RandomForestClassifier(n_estimators=trees), transformModel)\n",
    "\n",
    "class PolynomialModel(Model):\n",
    "    def __init__(self, maxDegree: int):\n",
    "        maxModel = None\n",
    "        score = -1\n",
    "        self.poly: PolynomialFeatures = None\n",
    "        for degree in range(1,maxDegree+1):\n",
    "            iterFeatures = PolynomialFeatures(degree=degree, include_bias=False)\n",
    "            polyTrainedFeatures = iterFeatures.fit_transform(features_train)\n",
    "\n",
    "            iterLinear  = LinearModel(transformModel=False)\n",
    "            iterLinear.model.fit(polyTrainedFeatures, outputs_train)\n",
    "    \n",
    "\n",
    "            iterScore = PolynomialModel.test(None,iterFeatures, iterLinear.model)\n",
    "            if iterScore > score:\n",
    "                maxModel = iterLinear\n",
    "                score = iterScore\n",
    "                self.poly = iterFeatures\n",
    "                \n",
    "        super().__init__(maxModel.model, False)\n",
    "\n",
    "    def test(self, polyFeatures: PolynomialFeatures=None, model: LinearRegression=None) -> float:\n",
    "        if model is None: model = self.model\n",
    "        if polyFeatures is None: polyFeatures = self.poly\n",
    "        \n",
    "        return model.score(polyFeatures.transform(features_test), outputs_test)\n",
    "    \n",
    "    def predict(self, features: Union[Sequence[Sequence[float]], np.array]):\n",
    "        return self.model.predict(self.poly.transform(features))\n"
   ]
  },
  {
   "cell_type": "code",
   "execution_count": 6,
   "metadata": {
    "id": "O2mzUWY8rN8V"
   },
   "outputs": [],
   "source": [
    "#model preperation and training\n",
    "models = {\n",
    "    \"linear\": LinearModel(),\n",
    "    \"logistic\": LogisticModel(1000),\n",
    "    \"randomForest\" : RandomForestModel(500),\n",
    "    \"polynomial\" : PolynomialModel(5)\n",
    "}"
   ]
  },
  {
   "cell_type": "markdown",
   "metadata": {},
   "source": []
  },
  {
   "cell_type": "code",
   "execution_count": 7,
   "metadata": {},
   "outputs": [],
   "source": [
    "class Predictor:\n",
    "\n",
    "    dataframe: pd.DataFrame\n",
    "\n",
    "    def __init__(self, dataframe: pd.DataFrame, model: Model=None):\n",
    "        self.dataframe = dataframe\n",
    "        self.model = model\n",
    "\n",
    "    def predict(self):\n",
    "        return self.model.predict(self.dataframe)\n",
    "    \n",
    "    def predict_proba(self):\n",
    "        if(hasattr(self.model.model, \"predict_proba\")):\n",
    "            return [self.model.model.predict_proba(self.dataframe)[0][1]]\n",
    "        else:\n",
    "            return self.predict()\n",
    "    \n",
    "    @staticmethod\n",
    "    def parse_json(unparsed_json: str):\n",
    "        parsed_json = json.loads(unparsed_json)\n",
    "        return Predictor.json_to_frame(parsed_json)\n",
    "    \n",
    "    @staticmethod\n",
    "    def json_to_frame(parsed_json: dict):\n",
    "        return Predictor(pd.DataFrame([parsed_json]))\n",
    "\n",
    "    def convert_binary_values(self):\n",
    "        self.dataframe[\"gender\"] = genderEncoder.transform(self.dataframe[\"gender\"])\n",
    "        self.dataframe[\"smoking_history\"] = smokingEncoder.transform(self.dataframe[\"smoking_history\"])\n",
    "\n",
    "        return self\n",
    "\n",
    "    def add_model(self, model: Model):\n",
    "        self.model = model\n",
    "        return self\n",
    "    \n",
    "\n",
    "\n",
    "# jsonPredict = Predictor.parse_json(\"\"\"{\n",
    "#     \\\"gender\\\" : \\\"Male\\\",\n",
    "#     \\\"age\\\" : 12.0,\n",
    "#     \\\"hypertension\\\": 1,\n",
    "#     \\\"heart_disease\\\": 1,\n",
    "#     \\\"smoking_history\\\": \\\"current\\\",\n",
    "#     \\\"bmi\\\" : 23.86,\n",
    "#     \\\"HbA1c_level\\\": 4.8,\n",
    "#     \\\"blood_glucose_level\\\": 157.0\n",
    "# }\"\"\").convert_binary_values().predict().tolist()\n",
    "\n",
    "# print(jsonPredict)\n",
    "\n"
   ]
  },
  {
   "cell_type": "code",
   "execution_count": 12,
   "metadata": {},
   "outputs": [
    {
     "data": {
      "text/plain": [
       "<flask_cors.extension.CORS at 0x70b257feaab0>"
      ]
     },
     "execution_count": 12,
     "metadata": {},
     "output_type": "execute_result"
    }
   ],
   "source": [
    "#Serverside Setup\n",
    "\n",
    "app = Flask(__name__)\n",
    "CORS(app)\n",
    "\n",
    "\n"
   ]
  },
  {
   "cell_type": "code",
   "execution_count": 13,
   "metadata": {},
   "outputs": [],
   "source": [
    "#App Route\n",
    "@app.route(\"/generate\", methods=[\"POST\"])\n",
    "def generate():\n",
    "    clientJson = request.json\n",
    "\n",
    "    model = clientJson[\"model\"]\n",
    "    features = clientJson[\"features\"]\n",
    "\n",
    "    if(models.get(model, None) is None):\n",
    "        return jsonify({\"result\": f\"The {model} model doesn't exist.\"})\n",
    "\n",
    "    currModel = Predictor.json_to_frame(features).convert_binary_values().add_model(models[model])\n",
    "\n",
    "    prediction = float(currModel.predict()[0])\n",
    "    probability = float(currModel.predict_proba()[0])\n",
    "\n",
    "    \n",
    "\n",
    "    return jsonify({\"result\": [prediction, probability]})"
   ]
  },
  {
   "cell_type": "code",
   "execution_count": 14,
   "metadata": {},
   "outputs": [
    {
     "name": "stdout",
     "output_type": "stream",
     "text": [
      " * Serving Flask app '__main__'\n",
      " * Debug mode: off\n"
     ]
    },
    {
     "name": "stderr",
     "output_type": "stream",
     "text": [
      "WARNING: This is a development server. Do not use it in a production deployment. Use a production WSGI server instead.\n",
      " * Running on http://127.0.0.1:5000\n",
      "Press CTRL+C to quit\n",
      "127.0.0.1 - - [23/Jun/2025 00:53:38] \"POST /generate HTTP/1.1\" 200 -\n",
      "127.0.0.1 - - [23/Jun/2025 00:54:21] \"POST /generate HTTP/1.1\" 200 -\n",
      "127.0.0.1 - - [23/Jun/2025 00:54:30] \"POST /generate HTTP/1.1\" 200 -\n",
      "127.0.0.1 - - [23/Jun/2025 00:54:37] \"POST /generate HTTP/1.1\" 200 -\n",
      "127.0.0.1 - - [23/Jun/2025 00:54:57] \"POST /generate HTTP/1.1\" 200 -\n"
     ]
    }
   ],
   "source": [
    "#Run\n",
    "\n",
    "if __name__ == '__main__':\n",
    "    app.run()"
   ]
  }
 ],
 "metadata": {
  "colab": {
   "provenance": []
  },
  "kernelspec": {
   "display_name": "Python 3",
   "name": "python3"
  },
  "language_info": {
   "codemirror_mode": {
    "name": "ipython",
    "version": 3
   },
   "file_extension": ".py",
   "mimetype": "text/x-python",
   "name": "python",
   "nbconvert_exporter": "python",
   "pygments_lexer": "ipython3",
   "version": "3.12.1"
  }
 },
 "nbformat": 4,
 "nbformat_minor": 0
}
