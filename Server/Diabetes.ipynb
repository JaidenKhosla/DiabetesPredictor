{
 "cells": [
  {
   "cell_type": "code",
   "execution_count": null,
   "metadata": {
    "id": "bb2cuLzGmZ9r"
   },
   "outputs": [],
   "source": [
    "#imports for machine learning and parsing\n",
    "import pandas as pd\n",
    "import seaborn as sns\n",
    "from sklearn.model_selection import train_test_split # To split our data for fair testing\n",
    "from sklearn.linear_model import LogisticRegression, LinearRegression  # The model itself!\n",
    "from sklearn import preprocessing #LabelEncoders\n",
    "from sklearn.preprocessing import PolynomialFeatures\n",
    "from sklearn.base import RegressorMixin, ClassifierMixin\n",
    "from sklearn.ensemble import RandomForestClassifier\n",
    "from sklearn.svm import SVR\n",
    "import math #for ceil\n",
    "import json\n",
    "\n",
    "\n",
    "\n",
    "#for typechecking\n",
    "from typing import Sequence, Union\n",
    "import numpy as np\n",
    "\n",
    "#have to use threading bc svrs take way too long\n",
    "import threading"
   ]
  },
  {
   "cell_type": "code",
   "execution_count": 2,
   "metadata": {
    "id": "SWB6e1KVm2mm"
   },
   "outputs": [],
   "source": [
    "#loading our dataframe\n",
    "diabetes_dataframe = pd.read_csv(\"./datasets/diabetes_prediction_dataset.csv\")\n",
    "\n"
   ]
  },
  {
   "cell_type": "code",
   "execution_count": 3,
   "metadata": {
    "id": "lBcNp85VqhaP"
   },
   "outputs": [],
   "source": [
    "#replacements\n",
    "#To convert categorical data into numerical data, I googled it and you use labelencoding.\n",
    "genderEncoder = preprocessing.LabelEncoder()\n",
    "smokingEncoder = preprocessing.LabelEncoder()\n",
    "\n",
    "diabetes_dataframe[\"gender\"] = genderEncoder.fit_transform(diabetes_dataframe[\"gender\"])\n",
    "diabetes_dataframe[\"smoking_history\"] = smokingEncoder.fit_transform(diabetes_dataframe[\"smoking_history\"])\n"
   ]
  },
  {
   "cell_type": "markdown",
   "metadata": {},
   "source": [
    "1"
   ]
  },
  {
   "cell_type": "markdown",
   "metadata": {},
   "source": []
  },
  {
   "cell_type": "code",
   "execution_count": 4,
   "metadata": {
    "id": "o-MnxUgQqyHx"
   },
   "outputs": [
    {
     "name": "stdout",
     "output_type": "stream",
     "text": [
      "[0 0 0 ... 0 0 0]\n"
     ]
    }
   ],
   "source": [
    "\n",
    "#splitting\n",
    "features = diabetes_dataframe[['gender', 'age', 'hypertension', 'heart_disease', 'smoking_history', 'bmi', 'HbA1c_level', 'blood_glucose_level']]\n",
    "outputs = diabetes_dataframe[['diabetes']].values.ravel()\n",
    "\n",
    "print(outputs)\n",
    "\n",
    "features_train, features_test, outputs_train, outputs_test = train_test_split(features, outputs, test_size=0.1, random_state=1845)"
   ]
  },
  {
   "cell_type": "code",
   "execution_count": 5,
   "metadata": {},
   "outputs": [],
   "source": [
    "class Model:\n",
    "    def __init__(self, model: RegressorMixin, transformModel=True):\n",
    "        self.model = model\n",
    "        if transformModel: model.fit(features_train, outputs_train)\n",
    "    \n",
    "    def test(self, model: RegressorMixin=None, features=features_test, outputs=outputs_test) -> float:\n",
    "        if model is None: model = self.model\n",
    "        return model.score(features, outputs)\n",
    "    \n",
    "    def predict(self, features: Union[Sequence[Sequence[float]], np.ndarray]):\n",
    "        return self.model.predict(features)\n",
    "    \n",
    "    def predict_proba(self, features: Union[Sequence[Sequence[float]], np.ndarray]):\n",
    "        if(hasattr(self.model, \"predict_proba\")):\n",
    "            return [self.model.predict_proba(features)[0][1]]\n",
    "        else:\n",
    "            return self.predict(features)\n",
    "\n",
    "\n",
    "class LinearModel(Model):\n",
    "    def __init__(self, transformModel=True):\n",
    "        super().__init__(LinearRegression(), transformModel)\n",
    "\n",
    "class LogisticModel(Model):\n",
    "    def __init__(self, max_iter: int, transformModel=True):\n",
    "        super().__init__(LogisticRegression(max_iter=max_iter), transformModel)\n",
    "\n",
    "class RandomForestClassifierModel(Model):\n",
    "    def __init__(self, n_estimators: int, transformModel=True):\n",
    "        super().__init__(RandomForestClassifier(n_estimators=n_estimators), transformModel)\n",
    "\n",
    "class SupportVectorRegressionModel(Model):\n",
    "    def __init__(self, mode:str, transformModel=True):\n",
    "        super().__init__(SVR(kernel=mode), transformModel)\n",
    "\n",
    "class PolynomialModel(Model):\n",
    "    def __init__(self, maxDegree: int):\n",
    "        maxModel = None\n",
    "        score = -1\n",
    "        self.poly: PolynomialFeatures = None\n",
    "        for degree in range(1,maxDegree+1):\n",
    "            iterFeatures = PolynomialFeatures(degree=degree, include_bias=False)\n",
    "            polyTrainedFeatures = iterFeatures.fit_transform(features_train)\n",
    "\n",
    "            iterLinear  = LinearModel(transformModel=False)\n",
    "            iterLinear.model.fit(polyTrainedFeatures, outputs_train)\n",
    "    \n",
    "\n",
    "            iterScore = PolynomialModel.test(None,iterFeatures, iterLinear.model)\n",
    "            if iterScore > score:\n",
    "                maxModel = iterLinear\n",
    "                score = iterScore\n",
    "                self.poly = iterFeatures\n",
    "                \n",
    "        super().__init__(maxModel.model, False)\n",
    "\n",
    "    def test(self, polyFeatures: PolynomialFeatures=None, model: LinearRegression=None) -> float:\n",
    "        if model is None: model = self.model\n",
    "        if polyFeatures is None: polyFeatures = self.poly\n",
    "        \n",
    "        return model.score(polyFeatures.transform(features_test), outputs_test)\n",
    "    \n",
    "    def predict(self, features: Union[Sequence[Sequence[float]], np.array]):\n",
    "        return self.model.predict(self.poly.transform(features))\n"
   ]
  },
  {
   "cell_type": "code",
   "execution_count": 6,
   "metadata": {
    "id": "O2mzUWY8rN8V"
   },
   "outputs": [],
   "source": [
    "#model initialization\n",
    "models: dict[str, Model] = {}\n",
    "model_locks: dict[str, threading.Lock]"
   ]
  },
  {
   "cell_type": "code",
   "execution_count": 7,
   "metadata": {},
   "outputs": [],
   "source": [
    "#linear model\n",
    "def linear_init():\n",
    "    with model_locks[\"linear\"]:\n",
    "        models[\"linear\"] = LinearModel()\n",
    "        print(\"Linear model ready!\")"
   ]
  },
  {
   "cell_type": "code",
   "execution_count": 8,
   "metadata": {},
   "outputs": [],
   "source": [
    "#logisitc model\n",
    "def logistic_init():\n",
    "    with model_locks[\"logistic\"]:\n",
    "        models[\"logistic\"] = LogisticModel(1000)\n",
    "        print(\"Logistic model ready!\")"
   ]
  },
  {
   "cell_type": "code",
   "execution_count": 9,
   "metadata": {},
   "outputs": [],
   "source": [
    "#random forest model\n",
    "def random_forest_init():\n",
    "    with model_locks[\"random_forest\"]:\n",
    "        models[\"random_forest\"] = RandomForestClassifierModel(500)\n",
    "        print(\"Random Forest ready!\")"
   ]
  },
  {
   "cell_type": "code",
   "execution_count": 10,
   "metadata": {},
   "outputs": [],
   "source": [
    "#support_vector linear model\n",
    "def svc_poly_init():\n",
    "    with model_locks[\"support_vector_linear\"]:\n",
    "        models[\"support_vector_linear\"] = SupportVectorRegressionModel(\"linear\")\n",
    "        print(\"SVC Linear Ready!\")"
   ]
  },
  {
   "cell_type": "code",
   "execution_count": 11,
   "metadata": {},
   "outputs": [],
   "source": [
    "#support_vector polynomial model\n",
    "def svc_linear_init():\n",
    "    with model_locks[\"support_vector_poly\"]:\n",
    "        models[\"support_vector_poly\"] = SupportVectorRegressionModel(\"poly\")\n",
    "        print(\"SVC Poly Ready!\")"
   ]
  },
  {
   "cell_type": "code",
   "execution_count": 12,
   "metadata": {},
   "outputs": [],
   "source": [
    "#polynomial model\n",
    "def poly_init():\n",
    "    with model_locks[\"poly\"]:\n",
    "        models[\"polynomial\"] = PolynomialModel(8)\n",
    "        print(\"Poly model ready!\")"
   ]
  },
  {
   "cell_type": "markdown",
   "metadata": {},
   "source": []
  },
  {
   "cell_type": "code",
   "execution_count": null,
   "metadata": {},
   "outputs": [
    {
     "name": "stdout",
     "output_type": "stream",
     "text": [
      "Linear model ready!\n",
      "Logistic model ready!\n"
     ]
    }
   ],
   "source": [
    "#multithreading for svcs\n",
    "class Models:\n",
    "    \n",
    "    \n",
    "    threads: dict[str, threading.Thread] = {    \n",
    "        \"linear\" : threading.Thread(target=linear_init),\n",
    "        \"logistic\" : threading.Thread(target=logistic_init),\n",
    "        \"random_forest\" : threading.Thread(target=random_forest_init),\n",
    "        # \"svc_linear\" : threading.Thread(target=svc_linear_init),\n",
    "        # \"svc_poly\" : threading.Thread(target=svc_poly_init),\n",
    "        \"poly\" : threading.Thread(target=poly_init)\n",
    "    }\n",
    "\n",
    "    model_locks = {k : threading.Lock() for k in threads}\n",
    "    singleton = None\n",
    "\n",
    "    for thread in threads.values():\n",
    "        thread.start()\n",
    "\n",
    "    @staticmethod\n",
    "    def get_model(model: str):\n",
    "        return Models.threads[model]"
   ]
  },
  {
   "cell_type": "code",
   "execution_count": 14,
   "metadata": {
    "colab": {
     "base_uri": "https://localhost:8080/",
     "height": 498
    },
    "id": "iuLhJRqAt3gA",
    "outputId": "ab26bb42-6f51-4b28-8173-f4bbca5dc781"
   },
   "outputs": [],
   "source": [
    "# def test():\n",
    "#   error = 0\n",
    "#   for i in range(0, len(outputs_test)):\n",
    "#     error+=(float(prediction_test[i])-float(outputs_test[i]))**2\n",
    "#   error/=len(outputs_test)\n",
    "#   error**=0.5\n",
    "#   print(f\"Error: {error}\")\n",
    "#   print(f\"R^2: {model.score(features_test,outputs_test)}\")\n",
    "\n",
    "#   newDf = pd.DataFrame([{\n",
    "#     \"gender\": \"Male\",\n",
    "#     \"age\": 12.0,\n",
    "#     \"hypertension\": 1,\n",
    "#     \"heart_disease\": 1,\n",
    "#     \"smoking_history\": \"current\",\n",
    "#     \"bmi\": 23.86,\n",
    "#     \"HbA1c_level\": 4.8,\n",
    "#     \"blood_glucose_level\": 157.0\n",
    "#   }])\n",
    "\n",
    "#   newDf[\"gender\"] = genderEncoder.transform(newDf[\"gender\"])\n",
    "#   newDf[\"smoking_history\"] = smokingEncoder.transform(newDf[\"smoking_history\"])\n",
    "\n",
    "\n"
   ]
  },
  {
   "cell_type": "code",
   "execution_count": 15,
   "metadata": {},
   "outputs": [],
   "source": [
    "class Predictor:\n",
    "\n",
    "\n",
    "    def __init__(self, dataframe: pd.DataFrame=[], model: Model=models[\"linear\"]):\n",
    "        self.dataframe = dataframe\n",
    "        self.model = model\n",
    "    \n",
    "    def predict(self):\n",
    "        return self.model.predict(self.dataframe)\n",
    "    \n",
    "    def predict_proba(self):\n",
    "        return self.model.predict_proba(self.dataframe)\n",
    "\n",
    "    @staticmethod\n",
    "    def parse_json(unparsed_json: str):\n",
    "        parsed_json = json.loads(unparsed_json)\n",
    "        return Predictor.json_to_frame(parsed_json)\n",
    "    \n",
    "    @staticmethod\n",
    "    def json_to_frame(parsed_json: dict):\n",
    "        return Predictor(pd.DataFrame([parsed_json]))\n",
    "\n",
    "    def add_model(self, model: Model):\n",
    "        return Predictor(self.dataframe, model)\n",
    "\n",
    "    def convert_binary_values(self):\n",
    "        self.dataframe[\"gender\"] = genderEncoder.transform(self.dataframe[\"gender\"])\n",
    "        self.dataframe[\"smoking_history\"] = smokingEncoder.transform(self.dataframe[\"smoking_history\"])\n",
    "\n",
    "        return self\n",
    "    \n",
    "\n",
    "\n",
    "# jsonPredict = Predictor.parse_json(\"\"\"{\n",
    "#     \\\"gender\\\" : \\\"Male\\\",\n",
    "#     \\\"age\\\" : 12.0,\n",
    "#     \\\"hypertension\\\": 1,\n",
    "#     \\\"heart_disease\\\": 1,\n",
    "#     \\\"smoking_history\\\": \\\"current\\\",\n",
    "#     \\\"bmi\\\" : 23.86,\n",
    "#     \\\"HbA1c_level\\\": 4.8,\n",
    "#     \\\"blood_glucose_level\\\": 157.0\n",
    "# }\"\"\").convert_binary_values().add_model(models[\"logistic\"]).predict()\n",
    "# print(jsonPredict)\n",
    "\n"
   ]
  },
  {
   "cell_type": "code",
   "execution_count": null,
   "metadata": {},
   "outputs": [
    {
     "data": {
      "text/plain": [
       "<flask_cors.extension.CORS at 0x7c3f1b0a2900>"
      ]
     },
     "execution_count": 16,
     "metadata": {},
     "output_type": "execute_result"
    }
   ],
   "source": [
    "#Serverside Setup\n"
   ]
  },
  {
   "cell_type": "code",
   "execution_count": null,
   "metadata": {},
   "outputs": [
    {
     "ename": "",
     "evalue": "",
     "output_type": "error",
     "traceback": [
      "\u001b[1;31mThe Kernel crashed while executing code in the current cell or a previous cell. \n",
      "\u001b[1;31mPlease review the code in the cell(s) to identify a possible cause of the failure. \n",
      "\u001b[1;31mClick <a href='https://aka.ms/vscodeJupyterKernelCrash'>here</a> for more info. \n",
      "\u001b[1;31mView Jupyter <a href='command:jupyter.viewOutput'>log</a> for further details."
     ]
    }
   ],
   "source": []
  },
  {
   "cell_type": "code",
   "execution_count": null,
   "metadata": {},
   "outputs": [
    {
     "name": "stdout",
     "output_type": "stream",
     "text": [
      " * Serving Flask app '__main__'\n",
      " * Debug mode: off\n"
     ]
    },
    {
     "name": "stderr",
     "output_type": "stream",
     "text": [
      "WARNING: This is a development server. Do not use it in a production deployment. Use a production WSGI server instead.\n",
      " * Running on http://127.0.0.1:5000\n",
      "Press CTRL+C to quit\n"
     ]
    },
    {
     "name": "stderr",
     "output_type": "stream",
     "text": [
      "127.0.0.1 - - [22/Jun/2025 22:18:24] \"POST /generate HTTP/1.1\" 200 -\n",
      "127.0.0.1 - - [22/Jun/2025 22:18:36] \"POST /generate HTTP/1.1\" 200 -\n"
     ]
    }
   ],
   "source": [
    "#Run\n"
   ]
  }
 ],
 "metadata": {
  "colab": {
   "provenance": []
  },
  "kernelspec": {
   "display_name": "Python 3",
   "name": "python3"
  },
  "language_info": {
   "codemirror_mode": {
    "name": "ipython",
    "version": 3
   },
   "file_extension": ".py",
   "mimetype": "text/x-python",
   "name": "python",
   "nbconvert_exporter": "python",
   "pygments_lexer": "ipython3",
   "version": "3.12.1"
  }
 },
 "nbformat": 4,
 "nbformat_minor": 0
}
