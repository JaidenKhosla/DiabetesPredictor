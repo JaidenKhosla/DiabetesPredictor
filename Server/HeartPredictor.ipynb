{
 "cells": [
  {
   "cell_type": "code",
   "execution_count": null,
   "id": "e03bf652",
   "metadata": {},
   "outputs": [],
   "source": [
    "#imports\n",
    "import pandas as pd\n",
    "import numpy as np\n",
    "import pickle\n",
    "\n",
    "#encoders\n",
    "from sklearn.preprocessing import LabelEncoder\n",
    "from sklearn.preprocessing import OneHotEncoder\n",
    "\n",
    "#models\n",
    "from sklearn import svm\n",
    "from sklearn.ensemble import RandomForestClassifier\n",
    "from sklearn.naive_bayes import GaussianNB\n",
    "from sklearn.naive_bayes import MultinomialNB\n",
    "from sklearn.naive_bayes import ComplementNB\n",
    "\n",
    "from sklearn.model_selection import train_test_split\n",
    "from sklearn.datasets import load_iris\n",
    "from Model import save_to_pickle"
   ]
  },
  {
   "cell_type": "code",
   "execution_count": null,
   "id": "35c879d5",
   "metadata": {},
   "outputs": [],
   "source": [
    "#data processing and splitting \n",
    "def parseData() -> list:\n",
    "    heartDataframe = pd.read_csv(\"../Server/datasets/heart_disease_prediction_dataset.csv\")\n",
    "    heartDataframe = heartDataframe.dropna(how=\"all\").dropna(how='all', axis=1)\n",
    "\n",
    "    heartDataframe = pd.get_dummies(heartDataframe, columns=[\"sex\"])\n",
    "\n",
    "    heartDataframe[\"sex_0\"] = heartDataframe[\"sex_0\"].astype(\"int\")\n",
    "    heartDataframe[\"sex_1\"] = heartDataframe[\"sex_1\"].astype(\"int\")\n",
    "    \n",
    "    heartFeatures = heartDataframe.drop(columns=[\"target\"])\n",
    "    heartOutputs = heartDataframe[\"target\"]\n",
    "\n",
    "    print(heartFeatures)\n",
    "\n",
    "    return train_test_split(heartFeatures, heartOutputs, test_size=0.1, random_state=42)\n",
    "\n"
   ]
  },
  {
   "cell_type": "code",
   "execution_count": null,
   "id": "ec133614",
   "metadata": {},
   "outputs": [
    {
     "name": "stdout",
     "output_type": "stream",
     "text": [
      "      age  cp  trestbps  chol  fbs  restecg  thalach  exang  oldpeak  slope  \\\n",
      "0      52   0       125   212    0        1      168      0      1.0      2   \n",
      "1      53   0       140   203    1        0      155      1      3.1      0   \n",
      "2      70   0       145   174    0        1      125      1      2.6      0   \n",
      "3      61   0       148   203    0        1      161      0      0.0      2   \n",
      "4      62   0       138   294    1        1      106      0      1.9      1   \n",
      "...   ...  ..       ...   ...  ...      ...      ...    ...      ...    ...   \n",
      "1020   59   1       140   221    0        1      164      1      0.0      2   \n",
      "1021   60   0       125   258    0        0      141      1      2.8      1   \n",
      "1022   47   0       110   275    0        0      118      1      1.0      1   \n",
      "1023   50   0       110   254    0        0      159      0      0.0      2   \n",
      "1024   54   0       120   188    0        1      113      0      1.4      1   \n",
      "\n",
      "      ca  thal  sex_0  sex_1  \n",
      "0      2     3      0      1  \n",
      "1      0     3      0      1  \n",
      "2      0     3      0      1  \n",
      "3      1     3      0      1  \n",
      "4      3     2      1      0  \n",
      "...   ..   ...    ...    ...  \n",
      "1020   0     2      0      1  \n",
      "1021   1     3      0      1  \n",
      "1022   1     2      0      1  \n",
      "1023   0     2      1      0  \n",
      "1024   1     3      0      1  \n",
      "\n",
      "[1025 rows x 14 columns]\n"
     ]
    }
   ],
   "source": [
    "#modelInitialization\n",
    "features_train, features_test, outputs_train, outputs_test = parseData()\n",
    "\n",
    "#newModels\n",
    "models = {\n",
    "    \"SVC\": save_to_pickle(svm.SVC(probability=True, kernel=\"linear\").fit(features_train, outputs_train)),\n",
    "    \"RandomForest\": save_to_pickle(RandomForestClassifier(n_estimators=500).fit(features_train, outputs_train)),\n",
    "    \"GaussianNB\": save_to_pickle(GaussianNB().fit(features_train, outputs_train)),\n",
    "    \"MultinomialNB\": save_to_pickle(MultinomialNB().fit(features_train, outputs_train)),\n",
    "    \"ComplementNB\": save_to_pickle(ComplementNB().fit(features_train, outputs_train))\n",
    "}"
   ]
  },
  {
   "cell_type": "code",
   "execution_count": null,
   "id": "4e0ea210",
   "metadata": {},
   "outputs": [],
   "source": [
    "# for modelName, model in models.items():\n",
    "#     pickle.dump(model, open(f\"../Server/models/HeartDisease/{modelName}.pkl\", \"wb\"))"
   ]
  },
  {
   "cell_type": "code",
   "execution_count": null,
   "id": "c84ce173",
   "metadata": {},
   "outputs": [],
   "source": []
  }
 ],
 "metadata": {
  "kernelspec": {
   "display_name": ".venv",
   "language": "python",
   "name": "python3"
  },
  "language_info": {
   "codemirror_mode": {
    "name": "ipython",
    "version": 3
   },
   "file_extension": ".py",
   "mimetype": "text/x-python",
   "name": "python",
   "nbconvert_exporter": "python",
   "pygments_lexer": "ipython3",
   "version": "3.12.3"
  }
 },
 "nbformat": 4,
 "nbformat_minor": 5
}
