{
 "cells": [
  {
   "cell_type": "code",
   "execution_count": 1,
   "id": "291b1c3b",
   "metadata": {},
   "outputs": [],
   "source": [
    "#imports for machine learning and parsing\n",
    "import pandas as pd\n",
    "import pickle\n",
    "from sklearn.model_selection import train_test_split # To split our data for fair testing\n",
    "from sklearn.linear_model import LogisticRegression, LinearRegression  # The model itself!\n",
    "from sklearn import preprocessing #LabelEncoders\n",
    "from sklearn.preprocessing import PolynomialFeatures\n",
    "from sklearn.base import RegressorMixin\n",
    "from sklearn.ensemble import RandomForestClassifier\n",
    "from Model import PolynomialModel, save_to_pickle"
   ]
  },
  {
   "cell_type": "code",
   "execution_count": 3,
   "id": "54d669a1",
   "metadata": {},
   "outputs": [
    {
     "name": "stdout",
     "output_type": "stream",
     "text": [
      "gender\n",
      "../Server/encoders/Diabetes/\n",
      "LabelEncoder()gender.pkl\n",
      "smoking_history\n",
      "../Server/encoders/Diabetes/\n",
      "LabelEncoder()smoking_history.pkl\n"
     ]
    }
   ],
   "source": [
    "#loading our dataframe\n",
    "diabetes_dataframe = pd.read_csv(\"./datasets/diabetes_prediction_dataset.csv\")\n",
    "\n",
    "#replacements\n",
    "#To convert categorical data into numerical data, I googled it and you use labelencoding.\n",
    "genderEncoder = preprocessing.LabelEncoder()\n",
    "smokingEncoder = preprocessing.LabelEncoder()\n",
    "\n",
    "diabetes_dataframe[\"gender\"] = genderEncoder.fit_transform(diabetes_dataframe[\"gender\"])\n",
    "diabetes_dataframe[\"smoking_history\"] = smokingEncoder.fit_transform(diabetes_dataframe[\"smoking_history\"])\n",
    "\n",
    "save_to_pickle(\"gender\", genderEncoder, path=\"../Server/encoders/Diabetes/\")\n",
    "save_to_pickle(\"smoking_history\", smokingEncoder, path=\"../Server/encoders/Diabetes/\")"
   ]
  },
  {
   "cell_type": "code",
   "execution_count": 3,
   "id": "b8bd5749",
   "metadata": {},
   "outputs": [
    {
     "name": "stdout",
     "output_type": "stream",
     "text": [
      "[0 0 0 ... 0 0 0]\n"
     ]
    }
   ],
   "source": [
    "#splitting\n",
    "features = diabetes_dataframe[['gender', 'age', 'hypertension', 'heart_disease', 'smoking_history', 'bmi', 'HbA1c_level', 'blood_glucose_level']]\n",
    "outputs = diabetes_dataframe[['diabetes']].values.ravel()\n",
    "\n",
    "print(outputs)\n",
    "\n",
    "features_train, features_test, outputs_train, outputs_test = train_test_split(features, outputs, test_size=0.1, random_state=1845)"
   ]
  },
  {
   "cell_type": "code",
   "execution_count": null,
   "id": "89545314",
   "metadata": {},
   "outputs": [],
   "source": [
    "def save_to_pickle(key: str, model, path: str=\"../Server/models/Diabetes/\"):\n",
    "    pickle.dump(model, open(f\"../Server/models/Diabetes/{key}.pkl\", \"wb\"))"
   ]
  },
  {
   "cell_type": "code",
   "execution_count": 5,
   "id": "89c2ac88",
   "metadata": {},
   "outputs": [
    {
     "name": "stderr",
     "output_type": "stream",
     "text": [
      "/workspaces/DiabetesPredictor/.venv/lib/python3.12/site-packages/sklearn/linear_model/_logistic.py:470: ConvergenceWarning: lbfgs failed to converge after 100 iteration(s) (status=1):\n",
      "STOP: TOTAL NO. OF ITERATIONS REACHED LIMIT\n",
      "\n",
      "Increase the number of iterations to improve the convergence (max_iter=100).\n",
      "You might also want to scale the data as shown in:\n",
      "    https://scikit-learn.org/stable/modules/preprocessing.html\n",
      "Please also refer to the documentation for alternative solver options:\n",
      "    https://scikit-learn.org/stable/modules/linear_model.html#logistic-regression\n",
      "  n_iter_i = _check_optimize_result(\n"
     ]
    }
   ],
   "source": [
    "models = {\n",
    "    \"linear\": save_to_pickle(\"Linear\",LinearRegression().fit(features_train, outputs_train)),\n",
    "    \"logistic\": save_to_pickle(\"Logistic\", LogisticRegression().fit(features_train, outputs_train)),\n",
    "    \"randomForest\" : save_to_pickle(\"RandomForest\", RandomForestClassifier(n_estimators=500).fit(features_train, outputs_train)),\n",
    "   # \"polynomial\" : save_to_pickle(\"Polynomial\",PolynomialModel(5, features_train, outputs_train))\n",
    "}"
   ]
  },
  {
   "cell_type": "code",
   "execution_count": null,
   "id": "3bd95fad",
   "metadata": {},
   "outputs": [],
   "source": []
  }
 ],
 "metadata": {
  "kernelspec": {
   "display_name": ".venv",
   "language": "python",
   "name": "python3"
  },
  "language_info": {
   "codemirror_mode": {
    "name": "ipython",
    "version": 3
   },
   "file_extension": ".py",
   "mimetype": "text/x-python",
   "name": "python",
   "nbconvert_exporter": "python",
   "pygments_lexer": "ipython3",
   "version": "3.12.3"
  }
 },
 "nbformat": 4,
 "nbformat_minor": 5
}
