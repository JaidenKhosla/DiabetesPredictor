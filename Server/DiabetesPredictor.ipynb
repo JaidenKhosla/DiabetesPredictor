{
 "cells": [
  {
   "cell_type": "code",
   "execution_count": 1,
   "id": "291b1c3b",
   "metadata": {},
   "outputs": [],
   "source": [
    "#imports for machine learning and parsing\n",
    "import pandas as pd\n",
    "import pickle\n",
    "from sklearn.model_selection import train_test_split # To split our data for fair testing\n",
    "from sklearn.linear_model import LogisticRegression, LinearRegression  # The model itself!\n",
    "from sklearn import preprocessing #LabelEncoders\n",
    "from sklearn.preprocessing import PolynomialFeatures\n",
    "from sklearn.base import RegressorMixin\n",
    "from sklearn.ensemble import RandomForestClassifier\n",
    "from Model import PolynomialModel"
   ]
  },
  {
   "cell_type": "code",
   "execution_count": 2,
   "id": "54d669a1",
   "metadata": {},
   "outputs": [],
   "source": [
    "#loading our dataframe\n",
    "diabetes_dataframe = pd.read_csv(\"./datasets/diabetes_prediction_dataset.csv\")\n",
    "\n",
    "#replacements\n",
    "#To convert categorical data into numerical data, I googled it and you use labelencoding.\n",
    "genderEncoder = preprocessing.LabelEncoder()\n",
    "smokingEncoder = preprocessing.LabelEncoder()\n",
    "\n",
    "diabetes_dataframe[\"gender\"] = genderEncoder.fit_transform(diabetes_dataframe[\"gender\"])\n",
    "diabetes_dataframe[\"smoking_history\"] = smokingEncoder.fit_transform(diabetes_dataframe[\"smoking_history\"])"
   ]
  },
  {
   "cell_type": "code",
   "execution_count": 3,
   "id": "b8bd5749",
   "metadata": {},
   "outputs": [
    {
     "name": "stdout",
     "output_type": "stream",
     "text": [
      "[0 0 0 ... 0 0 0]\n"
     ]
    }
   ],
   "source": [
    "#splitting\n",
    "features = diabetes_dataframe[['gender', 'age', 'hypertension', 'heart_disease', 'smoking_history', 'bmi', 'HbA1c_level', 'blood_glucose_level']]\n",
    "outputs = diabetes_dataframe[['diabetes']].values.ravel()\n",
    "\n",
    "print(outputs)\n",
    "\n",
    "features_train, features_test, outputs_train, outputs_test = train_test_split(features, outputs, test_size=0.1, random_state=1845)"
   ]
  },
  {
   "cell_type": "code",
   "execution_count": 4,
   "id": "89545314",
   "metadata": {},
   "outputs": [],
   "source": [
    "def save_to_pickle(key: str, model):\n",
    "    pickle.dump(model, open(f\"../Server/models/Diabetes/{key}.pkl\", \"wb\"))"
   ]
  },
  {
   "cell_type": "code",
   "execution_count": 7,
   "id": "89c2ac88",
   "metadata": {},
   "outputs": [],
   "source": [
    "models = {\n",
    "    # \"linear\": save_to_pickle(\"Linear\",LinearRegression().fit(features_train, outputs_train)),\n",
    "    # \"logistic\": save_to_pickle(\"Logistic\", LogisticRegression().fit(features_train, outputs_train)),\n",
    "    # \"randomForest\" : save_to_pickle(\"RandomForest\", RandomForestClassifier(n_estimators=500).fit(features_train, outputs_train)),\n",
    "    \"polynomial\" : save_to_pickle(\"Polynomial\",PolynomialModel(5, features_train, outputs_train))\n",
    "}"
   ]
  },
  {
   "cell_type": "code",
   "execution_count": null,
   "id": "3bd95fad",
   "metadata": {},
   "outputs": [],
   "source": []
  }
 ],
 "metadata": {
  "kernelspec": {
   "display_name": "Python 3",
   "language": "python",
   "name": "python3"
  },
  "language_info": {
   "codemirror_mode": {
    "name": "ipython",
    "version": 3
   },
   "file_extension": ".py",
   "mimetype": "text/x-python",
   "name": "python",
   "nbconvert_exporter": "python",
   "pygments_lexer": "ipython3",
   "version": "3.12.1"
  }
 },
 "nbformat": 4,
 "nbformat_minor": 5
}

